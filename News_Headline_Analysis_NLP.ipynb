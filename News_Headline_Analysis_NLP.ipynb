{
  "nbformat": 4,
  "nbformat_minor": 0,
  "metadata": {
    "colab": {
      "name": "News-Headline-Analysis-NLP",
      "provenance": [],
      "collapsed_sections": [],
      "authorship_tag": "ABX9TyODlk9szzEg5Yjr9Kx7nTYS",
      "include_colab_link": true
    },
    "kernelspec": {
      "name": "python3",
      "display_name": "Python 3"
    },
    "accelerator": "GPU"
  },
  "cells": [
    {
      "cell_type": "markdown",
      "metadata": {
        "id": "view-in-github",
        "colab_type": "text"
      },
      "source": [
        "<a href=\"https://colab.research.google.com/github/amolikvivian/Sarcastic-Headline-Analysis-NLP/blob/master/News_Headline_Analysis_NLP.ipynb\" target=\"_parent\"><img src=\"https://colab.research.google.com/assets/colab-badge.svg\" alt=\"Open In Colab\"/></a>"
      ]
    },
    {
      "cell_type": "code",
      "metadata": {
        "id": "DxvDXdhbsd6D",
        "colab_type": "code",
        "colab": {}
      },
      "source": [
        "#Sarcasm Analysis on News Headlines"
      ],
      "execution_count": 0,
      "outputs": []
    },
    {
      "cell_type": "code",
      "metadata": {
        "id": "ML35Kn7AsnVS",
        "colab_type": "code",
        "colab": {
          "base_uri": "https://localhost:8080/",
          "height": 34
        },
        "outputId": "c5e51384-cd80-4229-d0cd-8c56ca2e2ad0"
      },
      "source": [
        "import json\n",
        "import numpy as np\n",
        "import tensorflow as tf\n",
        "import matplotlib.pyplot as plt\n",
        "\n",
        "from keras.layers import Dense\n",
        "from keras.layers import Embedding\n",
        "from keras.layers import GlobalAveragePooling1D\n",
        "from keras.models import Sequential\n",
        "from keras.preprocessing.text import Tokenizer\n",
        "from keras.preprocessing.sequence import pad_sequences"
      ],
      "execution_count": 2,
      "outputs": [
        {
          "output_type": "stream",
          "text": [
            "Using TensorFlow backend.\n"
          ],
          "name": "stderr"
        }
      ]
    },
    {
      "cell_type": "code",
      "metadata": {
        "id": "ons4OXowtAP3",
        "colab_type": "code",
        "colab": {}
      },
      "source": [
        "#Initializing Constants\n",
        "VOCAB = 10000\n",
        "MAX_LEN = 100\n",
        "OOV_TOKEN = '<OOV>'\n",
        "EMBEDDING_DIM = 16\n",
        "TRUNC_TYPE = 'post'\n",
        "PADDING_TYPE = 'post'\n",
        "TRAINING_SIZE = 20000\n",
        "EPOCHS = 100"
      ],
      "execution_count": 0,
      "outputs": []
    },
    {
      "cell_type": "code",
      "metadata": {
        "id": "tzsoJvQntFtG",
        "colab_type": "code",
        "colab": {}
      },
      "source": [
        "#Downloading json file dataset\n",
        "!wget --no-check-certificate \\\n",
        "    https://storage.googleapis.com/laurencemoroney-blog.appspot.com/sarcasm.json \\\n",
        "    -O /tmp/sarcasm.json\n"
      ],
      "execution_count": 0,
      "outputs": []
    },
    {
      "cell_type": "code",
      "metadata": {
        "id": "E1XZkf1qtIzU",
        "colab_type": "code",
        "colab": {}
      },
      "source": [
        "#Loading data\n",
        "with open(\"/tmp/sarcasm.json\", 'r') as f:\n",
        "    data = json.load(f)\n",
        "\n",
        "sentences = []\n",
        "labels = []\n",
        "\n",
        "#Appending data in sentences and labels list\n",
        "for item in data:\n",
        "    sentences.append(item['headline'])\n",
        "    labels.append(item['is_sarcastic'])"
      ],
      "execution_count": 0,
      "outputs": []
    },
    {
      "cell_type": "code",
      "metadata": {
        "id": "cvTipVsWthrh",
        "colab_type": "code",
        "colab": {}
      },
      "source": [
        "#Partitioning dataset into training and testing data\n",
        "training_x = sentences[0:TRAINING_SIZE]\n",
        "training_y = labels[0:TRAINING_SIZE]\n",
        "\n",
        "testing_x = sentences[TRAINING_SIZE:]\n",
        "testing_y = labels[TRAINING_SIZE:]"
      ],
      "execution_count": 0,
      "outputs": []
    },
    {
      "cell_type": "code",
      "metadata": {
        "id": "aVtK_Y36tuW3",
        "colab_type": "code",
        "colab": {}
      },
      "source": [
        "#Initializing tokenizer\n",
        "tokenizer = Tokenizer(num_words = VOCAB, oov_token = OOV_TOKEN)\n",
        "tokenizer.fit_on_texts(training_x)\n",
        "word_index = tokenizer.word_index"
      ],
      "execution_count": 0,
      "outputs": []
    },
    {
      "cell_type": "code",
      "metadata": {
        "id": "oe0dF367tybg",
        "colab_type": "code",
        "colab": {}
      },
      "source": [
        "#Sequencing training and test sentences\n",
        "training_x_sequences = tokenizer.texts_to_sequences(training_x)\n",
        "padded_training = pad_sequences(training_x_sequences, maxlen = MAX_LEN,\n",
        "\tpadding = PADDING_TYPE, truncating = TRUNC_TYPE)\n",
        "\n",
        "testing_x_sequences = tokenizer.texts_to_sequences(testing_x)\n",
        "padded_testing = pad_sequences(testing_x_sequences, maxlen = MAX_LEN, \n",
        "\tpadding = PADDING_TYPE, truncating = TRUNC_TYPE)"
      ],
      "execution_count": 0,
      "outputs": []
    },
    {
      "cell_type": "code",
      "metadata": {
        "id": "VkuHaLa0t07V",
        "colab_type": "code",
        "colab": {}
      },
      "source": [
        "#Converting to numpy array for model training\n",
        "padded_training = np.array(padded_training)\n",
        "training_y = np.array(training_y)\n",
        "padded_testing = np.array(padded_testing)\n",
        "testing_y = np.array(testing_y)"
      ],
      "execution_count": 0,
      "outputs": []
    },
    {
      "cell_type": "code",
      "metadata": {
        "id": "CZe9CwInt4cw",
        "colab_type": "code",
        "colab": {}
      },
      "source": [
        "#Building Model\n",
        "model = Sequential([\n",
        "\tEmbedding(VOCAB, EMBEDDING_DIM, input_length = MAX_LEN),\n",
        "\tGlobalAveragePooling1D(),\n",
        "\tDense(24, activation = 'relu'),\n",
        "\tDense(1, activation = 'sigmoid')])"
      ],
      "execution_count": 0,
      "outputs": []
    },
    {
      "cell_type": "code",
      "metadata": {
        "id": "tKiuvwaxt7Db",
        "colab_type": "code",
        "colab": {
          "base_uri": "https://localhost:8080/",
          "height": 289
        },
        "outputId": "230b2342-2d41-4dab-a69d-2a593be7c5ed"
      },
      "source": [
        "#Compiling Model\n",
        "model.compile(loss = 'binary_crossentropy', optimizer = 'adam',\n",
        "\tmetrics = ['accuracy'])\n",
        "\n",
        "#Showing Model Details\n",
        "model.summary()"
      ],
      "execution_count": 13,
      "outputs": [
        {
          "output_type": "stream",
          "text": [
            "Model: \"sequential_1\"\n",
            "_________________________________________________________________\n",
            "Layer (type)                 Output Shape              Param #   \n",
            "=================================================================\n",
            "embedding_1 (Embedding)      (None, 100, 16)           160000    \n",
            "_________________________________________________________________\n",
            "global_average_pooling1d_1 ( (None, 16)                0         \n",
            "_________________________________________________________________\n",
            "dense_1 (Dense)              (None, 24)                408       \n",
            "_________________________________________________________________\n",
            "dense_2 (Dense)              (None, 1)                 25        \n",
            "=================================================================\n",
            "Total params: 160,433\n",
            "Trainable params: 160,433\n",
            "Non-trainable params: 0\n",
            "_________________________________________________________________\n"
          ],
          "name": "stdout"
        }
      ]
    },
    {
      "cell_type": "code",
      "metadata": {
        "id": "KECDtnIYuEad",
        "colab_type": "code",
        "colab": {
          "base_uri": "https://localhost:8080/",
          "height": 1000
        },
        "outputId": "a4b594dd-f605-411a-b855-22430ba0d0fe"
      },
      "source": [
        "#Training Model\n",
        "history = model.fit(padded_training, training_y, epochs = EPOCHS,\n",
        "\tvalidation_data = (padded_testing, testing_y), verbose = 2)"
      ],
      "execution_count": 17,
      "outputs": [
        {
          "output_type": "stream",
          "text": [
            "Train on 20000 samples, validate on 6709 samples\n",
            "Epoch 1/100\n",
            " - 2s - loss: 0.0118 - accuracy: 0.9969 - val_loss: 1.5223 - val_accuracy: 0.8062\n",
            "Epoch 2/100\n",
            " - 2s - loss: 0.0107 - accuracy: 0.9970 - val_loss: 1.5475 - val_accuracy: 0.8049\n",
            "Epoch 3/100\n",
            " - 2s - loss: 0.0099 - accuracy: 0.9974 - val_loss: 1.6530 - val_accuracy: 0.8071\n",
            "Epoch 4/100\n",
            " - 2s - loss: 0.0094 - accuracy: 0.9975 - val_loss: 1.6628 - val_accuracy: 0.8058\n",
            "Epoch 5/100\n",
            " - 2s - loss: 0.0095 - accuracy: 0.9975 - val_loss: 1.6961 - val_accuracy: 0.8056\n",
            "Epoch 6/100\n",
            " - 2s - loss: 0.0077 - accuracy: 0.9979 - val_loss: 1.7263 - val_accuracy: 0.8043\n",
            "Epoch 7/100\n",
            " - 2s - loss: 0.0093 - accuracy: 0.9974 - val_loss: 1.8807 - val_accuracy: 0.8049\n",
            "Epoch 8/100\n",
            " - 2s - loss: 0.0080 - accuracy: 0.9975 - val_loss: 1.7705 - val_accuracy: 0.8065\n",
            "Epoch 9/100\n",
            " - 2s - loss: 0.0068 - accuracy: 0.9983 - val_loss: 1.8902 - val_accuracy: 0.8037\n",
            "Epoch 10/100\n",
            " - 2s - loss: 0.0071 - accuracy: 0.9980 - val_loss: 1.8299 - val_accuracy: 0.7967\n",
            "Epoch 11/100\n",
            " - 2s - loss: 0.0066 - accuracy: 0.9983 - val_loss: 1.9955 - val_accuracy: 0.8022\n",
            "Epoch 12/100\n",
            " - 2s - loss: 0.0069 - accuracy: 0.9981 - val_loss: 1.9872 - val_accuracy: 0.8025\n",
            "Epoch 13/100\n",
            " - 2s - loss: 0.0059 - accuracy: 0.9979 - val_loss: 1.9887 - val_accuracy: 0.8038\n",
            "Epoch 14/100\n",
            " - 2s - loss: 0.0060 - accuracy: 0.9984 - val_loss: 2.1189 - val_accuracy: 0.8015\n",
            "Epoch 15/100\n",
            " - 2s - loss: 0.0052 - accuracy: 0.9985 - val_loss: 2.0597 - val_accuracy: 0.8034\n",
            "Epoch 16/100\n",
            " - 2s - loss: 0.0054 - accuracy: 0.9984 - val_loss: 2.0782 - val_accuracy: 0.8031\n",
            "Epoch 17/100\n",
            " - 2s - loss: 0.0055 - accuracy: 0.9985 - val_loss: 2.1068 - val_accuracy: 0.8028\n",
            "Epoch 18/100\n",
            " - 2s - loss: 0.0056 - accuracy: 0.9980 - val_loss: 2.0700 - val_accuracy: 0.7956\n",
            "Epoch 19/100\n",
            " - 2s - loss: 0.0082 - accuracy: 0.9968 - val_loss: 2.1770 - val_accuracy: 0.8037\n",
            "Epoch 20/100\n",
            " - 2s - loss: 0.0050 - accuracy: 0.9983 - val_loss: 2.1499 - val_accuracy: 0.7952\n",
            "Epoch 21/100\n",
            " - 2s - loss: 0.0049 - accuracy: 0.9983 - val_loss: 2.3377 - val_accuracy: 0.8013\n",
            "Epoch 22/100\n",
            " - 2s - loss: 0.0040 - accuracy: 0.9991 - val_loss: 2.3323 - val_accuracy: 0.8025\n",
            "Epoch 23/100\n",
            " - 2s - loss: 0.0070 - accuracy: 0.9977 - val_loss: 2.2364 - val_accuracy: 0.8003\n",
            "Epoch 24/100\n",
            " - 2s - loss: 0.0046 - accuracy: 0.9986 - val_loss: 2.4491 - val_accuracy: 0.8004\n",
            "Epoch 25/100\n",
            " - 2s - loss: 0.0037 - accuracy: 0.9988 - val_loss: 2.3727 - val_accuracy: 0.8003\n",
            "Epoch 26/100\n",
            " - 2s - loss: 0.0050 - accuracy: 0.9984 - val_loss: 2.4393 - val_accuracy: 0.7995\n",
            "Epoch 27/100\n",
            " - 2s - loss: 0.0039 - accuracy: 0.9991 - val_loss: 2.3488 - val_accuracy: 0.7933\n",
            "Epoch 28/100\n",
            " - 2s - loss: 0.0046 - accuracy: 0.9984 - val_loss: 2.4146 - val_accuracy: 0.8001\n",
            "Epoch 29/100\n",
            " - 2s - loss: 0.0044 - accuracy: 0.9984 - val_loss: 2.5319 - val_accuracy: 0.7982\n",
            "Epoch 30/100\n",
            " - 2s - loss: 0.0045 - accuracy: 0.9987 - val_loss: 2.4455 - val_accuracy: 0.7997\n",
            "Epoch 31/100\n",
            " - 2s - loss: 0.0034 - accuracy: 0.9988 - val_loss: 2.4995 - val_accuracy: 0.7986\n",
            "Epoch 32/100\n",
            " - 2s - loss: 0.0041 - accuracy: 0.9988 - val_loss: 2.4778 - val_accuracy: 0.7979\n",
            "Epoch 33/100\n",
            " - 2s - loss: 0.0046 - accuracy: 0.9985 - val_loss: 2.5554 - val_accuracy: 0.7986\n",
            "Epoch 34/100\n",
            " - 2s - loss: 0.0035 - accuracy: 0.9992 - val_loss: 2.6761 - val_accuracy: 0.7973\n",
            "Epoch 35/100\n",
            " - 2s - loss: 0.0052 - accuracy: 0.9982 - val_loss: 2.6405 - val_accuracy: 0.7985\n",
            "Epoch 36/100\n",
            " - 2s - loss: 0.0030 - accuracy: 0.9991 - val_loss: 2.6981 - val_accuracy: 0.8000\n",
            "Epoch 37/100\n",
            " - 2s - loss: 0.0047 - accuracy: 0.9982 - val_loss: 2.6241 - val_accuracy: 0.7979\n",
            "Epoch 38/100\n",
            " - 2s - loss: 0.0036 - accuracy: 0.9987 - val_loss: 2.6405 - val_accuracy: 0.7988\n",
            "Epoch 39/100\n",
            " - 2s - loss: 0.0032 - accuracy: 0.9990 - val_loss: 2.6494 - val_accuracy: 0.7976\n",
            "Epoch 40/100\n",
            " - 2s - loss: 0.0043 - accuracy: 0.9987 - val_loss: 2.6774 - val_accuracy: 0.7973\n",
            "Epoch 41/100\n",
            " - 2s - loss: 0.0050 - accuracy: 0.9982 - val_loss: 2.7369 - val_accuracy: 0.7955\n",
            "Epoch 42/100\n",
            " - 2s - loss: 0.0035 - accuracy: 0.9989 - val_loss: 2.6847 - val_accuracy: 0.7973\n",
            "Epoch 43/100\n",
            " - 2s - loss: 0.0033 - accuracy: 0.9990 - val_loss: 2.8044 - val_accuracy: 0.7974\n",
            "Epoch 44/100\n",
            " - 2s - loss: 0.0029 - accuracy: 0.9991 - val_loss: 2.7496 - val_accuracy: 0.7964\n",
            "Epoch 45/100\n",
            " - 2s - loss: 0.0033 - accuracy: 0.9991 - val_loss: 2.7197 - val_accuracy: 0.7979\n",
            "Epoch 46/100\n",
            " - 2s - loss: 0.0031 - accuracy: 0.9991 - val_loss: 2.7756 - val_accuracy: 0.7989\n",
            "Epoch 47/100\n",
            " - 2s - loss: 0.0037 - accuracy: 0.9988 - val_loss: 2.7812 - val_accuracy: 0.7985\n",
            "Epoch 48/100\n",
            " - 2s - loss: 0.0045 - accuracy: 0.9985 - val_loss: 2.8115 - val_accuracy: 0.7986\n",
            "Epoch 49/100\n",
            " - 2s - loss: 0.0032 - accuracy: 0.9991 - val_loss: 2.8286 - val_accuracy: 0.7979\n",
            "Epoch 50/100\n",
            " - 2s - loss: 0.0025 - accuracy: 0.9991 - val_loss: 2.7970 - val_accuracy: 0.7959\n",
            "Epoch 51/100\n",
            " - 2s - loss: 0.0035 - accuracy: 0.9985 - val_loss: 2.9131 - val_accuracy: 0.7976\n",
            "Epoch 52/100\n",
            " - 2s - loss: 0.0022 - accuracy: 0.9994 - val_loss: 2.9715 - val_accuracy: 0.7974\n",
            "Epoch 53/100\n",
            " - 2s - loss: 0.0029 - accuracy: 0.9991 - val_loss: 2.8952 - val_accuracy: 0.7968\n",
            "Epoch 54/100\n",
            " - 2s - loss: 0.0053 - accuracy: 0.9983 - val_loss: 2.9496 - val_accuracy: 0.7977\n",
            "Epoch 55/100\n",
            " - 2s - loss: 0.0026 - accuracy: 0.9992 - val_loss: 2.8012 - val_accuracy: 0.7962\n",
            "Epoch 56/100\n",
            " - 2s - loss: 0.0050 - accuracy: 0.9983 - val_loss: 2.8314 - val_accuracy: 0.7952\n",
            "Epoch 57/100\n",
            " - 2s - loss: 0.0040 - accuracy: 0.9987 - val_loss: 3.0149 - val_accuracy: 0.7974\n",
            "Epoch 58/100\n",
            " - 2s - loss: 0.0022 - accuracy: 0.9991 - val_loss: 2.8387 - val_accuracy: 0.7934\n",
            "Epoch 59/100\n",
            " - 2s - loss: 0.0027 - accuracy: 0.9993 - val_loss: 2.9382 - val_accuracy: 0.7967\n",
            "Epoch 60/100\n",
            " - 2s - loss: 0.0019 - accuracy: 0.9995 - val_loss: 2.9181 - val_accuracy: 0.7958\n",
            "Epoch 61/100\n",
            " - 2s - loss: 0.0044 - accuracy: 0.9987 - val_loss: 2.8366 - val_accuracy: 0.7924\n",
            "Epoch 62/100\n",
            " - 2s - loss: 0.0034 - accuracy: 0.9988 - val_loss: 2.9807 - val_accuracy: 0.7964\n",
            "Epoch 63/100\n",
            " - 2s - loss: 0.0027 - accuracy: 0.9990 - val_loss: 3.0163 - val_accuracy: 0.7962\n",
            "Epoch 64/100\n",
            " - 2s - loss: 0.0081 - accuracy: 0.9976 - val_loss: 2.9511 - val_accuracy: 0.7967\n",
            "Epoch 65/100\n",
            " - 2s - loss: 0.0020 - accuracy: 0.9994 - val_loss: 2.9732 - val_accuracy: 0.7977\n",
            "Epoch 66/100\n",
            " - 2s - loss: 0.0016 - accuracy: 0.9995 - val_loss: 2.9513 - val_accuracy: 0.7959\n",
            "Epoch 67/100\n",
            " - 2s - loss: 0.0022 - accuracy: 0.9995 - val_loss: 2.9302 - val_accuracy: 0.7953\n",
            "Epoch 68/100\n",
            " - 2s - loss: 0.0029 - accuracy: 0.9992 - val_loss: 2.9979 - val_accuracy: 0.7956\n",
            "Epoch 69/100\n",
            " - 2s - loss: 0.0026 - accuracy: 0.9992 - val_loss: 2.9238 - val_accuracy: 0.7934\n",
            "Epoch 70/100\n",
            " - 2s - loss: 0.0023 - accuracy: 0.9994 - val_loss: 2.9676 - val_accuracy: 0.7951\n",
            "Epoch 71/100\n",
            " - 2s - loss: 0.0026 - accuracy: 0.9994 - val_loss: 3.0115 - val_accuracy: 0.7951\n",
            "Epoch 72/100\n",
            " - 2s - loss: 0.0037 - accuracy: 0.9989 - val_loss: 3.0339 - val_accuracy: 0.7952\n",
            "Epoch 73/100\n",
            " - 2s - loss: 0.0024 - accuracy: 0.9993 - val_loss: 3.0288 - val_accuracy: 0.7951\n",
            "Epoch 74/100\n",
            " - 2s - loss: 0.0030 - accuracy: 0.9992 - val_loss: 3.0541 - val_accuracy: 0.7962\n",
            "Epoch 75/100\n",
            " - 2s - loss: 0.0044 - accuracy: 0.9984 - val_loss: 3.1819 - val_accuracy: 0.7949\n",
            "Epoch 76/100\n",
            " - 2s - loss: 0.0020 - accuracy: 0.9993 - val_loss: 3.1408 - val_accuracy: 0.7964\n",
            "Epoch 77/100\n",
            " - 2s - loss: 0.0026 - accuracy: 0.9991 - val_loss: 3.0546 - val_accuracy: 0.7916\n",
            "Epoch 78/100\n",
            " - 2s - loss: 0.0045 - accuracy: 0.9984 - val_loss: 3.0390 - val_accuracy: 0.7931\n",
            "Epoch 79/100\n",
            " - 2s - loss: 0.0027 - accuracy: 0.9990 - val_loss: 3.1058 - val_accuracy: 0.7934\n",
            "Epoch 80/100\n",
            " - 2s - loss: 0.0029 - accuracy: 0.9991 - val_loss: 3.1254 - val_accuracy: 0.7925\n",
            "Epoch 81/100\n",
            " - 2s - loss: 0.0025 - accuracy: 0.9992 - val_loss: 3.1869 - val_accuracy: 0.7962\n",
            "Epoch 82/100\n",
            " - 2s - loss: 0.0027 - accuracy: 0.9991 - val_loss: 3.1613 - val_accuracy: 0.7955\n",
            "Epoch 83/100\n",
            " - 2s - loss: 0.0037 - accuracy: 0.9987 - val_loss: 3.1129 - val_accuracy: 0.7936\n",
            "Epoch 84/100\n",
            " - 2s - loss: 0.0030 - accuracy: 0.9988 - val_loss: 3.1334 - val_accuracy: 0.7933\n",
            "Epoch 85/100\n",
            " - 2s - loss: 0.0031 - accuracy: 0.9992 - val_loss: 3.2003 - val_accuracy: 0.7956\n",
            "Epoch 86/100\n",
            " - 2s - loss: 0.0020 - accuracy: 0.9994 - val_loss: 3.1484 - val_accuracy: 0.7922\n",
            "Epoch 87/100\n",
            " - 2s - loss: 0.0032 - accuracy: 0.9991 - val_loss: 3.3045 - val_accuracy: 0.7958\n",
            "Epoch 88/100\n",
            " - 2s - loss: 0.0033 - accuracy: 0.9989 - val_loss: 3.2563 - val_accuracy: 0.7943\n",
            "Epoch 89/100\n",
            " - 2s - loss: 0.0025 - accuracy: 0.9992 - val_loss: 3.2242 - val_accuracy: 0.7948\n",
            "Epoch 90/100\n",
            " - 2s - loss: 0.0025 - accuracy: 0.9989 - val_loss: 3.1513 - val_accuracy: 0.7912\n",
            "Epoch 91/100\n",
            " - 2s - loss: 0.0028 - accuracy: 0.9991 - val_loss: 3.1964 - val_accuracy: 0.7940\n",
            "Epoch 92/100\n",
            " - 2s - loss: 0.0025 - accuracy: 0.9992 - val_loss: 3.2172 - val_accuracy: 0.7942\n",
            "Epoch 93/100\n",
            " - 2s - loss: 0.0027 - accuracy: 0.9990 - val_loss: 3.1229 - val_accuracy: 0.7913\n",
            "Epoch 94/100\n",
            " - 2s - loss: 0.0024 - accuracy: 0.9989 - val_loss: 3.1865 - val_accuracy: 0.7958\n",
            "Epoch 95/100\n",
            " - 2s - loss: 0.0015 - accuracy: 0.9994 - val_loss: 3.1919 - val_accuracy: 0.7904\n",
            "Epoch 96/100\n",
            " - 2s - loss: 0.0079 - accuracy: 0.9977 - val_loss: 3.0877 - val_accuracy: 0.7907\n",
            "Epoch 97/100\n",
            " - 2s - loss: 0.0015 - accuracy: 0.9995 - val_loss: 3.1747 - val_accuracy: 0.7940\n",
            "Epoch 98/100\n",
            " - 2s - loss: 0.0024 - accuracy: 0.9994 - val_loss: 3.1442 - val_accuracy: 0.7924\n",
            "Epoch 99/100\n",
            " - 2s - loss: 0.0017 - accuracy: 0.9995 - val_loss: 3.5649 - val_accuracy: 0.7924\n",
            "Epoch 100/100\n",
            " - 2s - loss: 0.0019 - accuracy: 0.9994 - val_loss: 3.2362 - val_accuracy: 0.7930\n"
          ],
          "name": "stdout"
        }
      ]
    },
    {
      "cell_type": "code",
      "metadata": {
        "id": "JPy3gJpguOCS",
        "colab_type": "code",
        "colab": {
          "base_uri": "https://localhost:8080/",
          "height": 279
        },
        "outputId": "6850d4ac-744b-47f6-87b3-9efcf40fc7c0"
      },
      "source": [
        "#Plotting Model Accuracy\n",
        "plt.plot(history.history['accuracy'])\n",
        "plt.plot(history.history['val_accuracy'])\n",
        "plt.xlabel('Epochs')\n",
        "plt.ylabel('Accuracy')\n",
        "plt.legend(['accuracy', 'val_accuracy'])\n",
        "plt.show()"
      ],
      "execution_count": 18,
      "outputs": [
        {
          "output_type": "display_data",
          "data": {
            "image/png": "[encoded data removed]",
            "text/plain": [
              "<Figure size 432x288 with 1 Axes>"
            ]
          },
          "metadata": {
            "tags": [],
            "needs_background": "light"
          }
        }
      ]
    },
    {
      "cell_type": "code",
      "metadata": {
        "id": "X4o_jkfSu1xK",
        "colab_type": "code",
        "colab": {
          "base_uri": "https://localhost:8080/",
          "height": 34
        },
        "outputId": "515db113-feb4-481c-e42c-dee7f382adfa"
      },
      "source": [
        "#Predicting Sentences - 1 if the record is sarcastic else 0\n",
        "sentence = [\"He just wants wife to listen, not come up with alternative debt-reduction ideas\", \n",
        "            \"Harry Potter is a great series of books\"]\n",
        "\n",
        "sequences = tokenizer.texts_to_sequences(sentence)\n",
        "padded = pad_sequences(sequences, maxlen = MAX_LEN, padding = PADDING_TYPE,\n",
        "                       truncating = TRUNC_TYPE)\n",
        "\n",
        "predictions = model.predict(padded)\n",
        "\n",
        "print(*predictions)"
      ],
      "execution_count": 32,
      "outputs": [
        {
          "output_type": "stream",
          "text": [
            "[0.999244] [3.340077e-22]\n"
          ],
          "name": "stdout"
        }
      ]
    }
  ]
}